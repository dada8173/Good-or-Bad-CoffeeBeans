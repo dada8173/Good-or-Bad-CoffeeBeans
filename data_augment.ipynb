{
 "cells": [
  {
   "cell_type": "code",
   "execution_count": 3,
   "id": "47451890",
   "metadata": {},
   "outputs": [
    {
     "name": "stdout",
     "output_type": "stream",
     "text": [
      "✅ 擴增完成！圖片已儲存在 corp_augmented_data/ 中\n"
     ]
    }
   ],
   "source": [
    "import os\n",
    "from PIL import Image\n",
    "from torchvision import transforms\n",
    "import torchvision.transforms.functional as TF\n",
    "import torch\n",
    "\n",
    "# 參數設定\n",
    "input_dir = 'crop/classByhandsNoback'\n",
    "output_dir = 'corp_augmented_dataNoback'\n",
    "augment_per_image = 2\n",
    "IMG_SIZE = 128\n",
    "\n",
    "# 安全 pad-to-square（維持比例，補空白成正方形）\n",
    "def pad_to_square(img, fill=0):\n",
    "    w, h = img.size\n",
    "    if w == h:\n",
    "        return img\n",
    "    diff = abs(h - w)\n",
    "    pad1, pad2 = diff // 2, diff - diff // 2\n",
    "    return TF.pad(img, (0, pad1, 0, pad2) if h < w else (pad1, 0, pad2, 0), fill=fill)\n",
    "\n",
    "# Clamp 類別：避免 Tensor 超出 0~1\n",
    "class Clamp(object):\n",
    "    def __init__(self, min_val, max_val):\n",
    "        self.min = min_val\n",
    "        self.max = max_val\n",
    "    def __call__(self, tensor):\n",
    "        return torch.clamp(tensor, self.min, self.max)\n",
    "\n",
    "# 資料擴增方式（不變形）\n",
    "def get_safe_augment_transform():\n",
    "    return transforms.Compose([\n",
    "        transforms.Lambda(lambda img: pad_to_square(img, fill=0)),\n",
    "        transforms.Resize((IMG_SIZE, IMG_SIZE)),\n",
    "        transforms.ColorJitter(brightness=0.3, contrast=0.3, saturation=0.2),\n",
    "        transforms.RandomGrayscale(p=0.1),\n",
    "        transforms.RandomApply([transforms.GaussianBlur(3)], p=0.3),\n",
    "        transforms.RandomAdjustSharpness(sharpness_factor=2, p=0.3),\n",
    "        transforms.ToTensor(),\n",
    "        transforms.Lambda(lambda x: x + 0.01 * torch.randn_like(x)),  # 微量高斯雜訊\n",
    "        Clamp(0, 1),\n",
    "        transforms.ToPILImage()\n",
    "    ])\n",
    "\n",
    "# 建立資料夾並執行擴增\n",
    "for class_name in os.listdir(input_dir):\n",
    "    class_path = os.path.join(input_dir, class_name)\n",
    "    if not os.path.isdir(class_path):\n",
    "        continue\n",
    "\n",
    "    output_class_path = os.path.join(output_dir, class_name)\n",
    "    os.makedirs(output_class_path, exist_ok=True)\n",
    "\n",
    "    for img_name in os.listdir(class_path):\n",
    "        img_path = os.path.join(class_path, img_name)\n",
    "        try:\n",
    "            image = Image.open(img_path).convert(\"RGB\")\n",
    "        except:\n",
    "            print(f\"❌ 無法開啟圖檔：{img_path}\")\n",
    "            continue\n",
    "\n",
    "        for i in range(augment_per_image):\n",
    "            transform = get_safe_augment_transform()\n",
    "            augmented = transform(image)\n",
    "            new_name = f\"{os.path.splitext(img_name)[0]}_aug{i}.jpg\"\n",
    "            augmented.save(os.path.join(output_class_path, new_name))\n",
    "\n",
    "print(\"✅ 擴增完成！圖片已儲存在 corp_augmented_data/ 中\")\n"
   ]
  }
 ],
 "metadata": {
  "kernelspec": {
   "display_name": "pytorch",
   "language": "python",
   "name": "python3"
  },
  "language_info": {
   "codemirror_mode": {
    "name": "ipython",
    "version": 3
   },
   "file_extension": ".py",
   "mimetype": "text/x-python",
   "name": "python",
   "nbconvert_exporter": "python",
   "pygments_lexer": "ipython3",
   "version": "3.12.8"
  }
 },
 "nbformat": 4,
 "nbformat_minor": 5
}
