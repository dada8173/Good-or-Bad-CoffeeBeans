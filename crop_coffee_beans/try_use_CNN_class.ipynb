{
 "cells": [
  {
   "cell_type": "code",
   "execution_count": 2,
   "metadata": {},
   "outputs": [
    {
     "name": "stdout",
     "output_type": "stream",
     "text": [
      "類別對應: {'bad': 0, 'good': 1}\n"
     ]
    },
    {
     "name": "stderr",
     "output_type": "stream",
     "text": [
      "Epoch 1/80: 100%|██████████| 4/4 [00:03<00:00,  1.15it/s, acc=56.9, loss=0.647]\n"
     ]
    },
    {
     "name": "stdout",
     "output_type": "stream",
     "text": [
      "Epoch 1/80 - Loss: 2.6624, Accuracy: 56.93%\n",
      "📉 驗證準確度: 67.79%\n"
     ]
    },
    {
     "name": "stderr",
     "output_type": "stream",
     "text": [
      "Epoch 2/80: 100%|██████████| 4/4 [00:02<00:00,  1.67it/s, acc=65.4, loss=0.646]\n"
     ]
    },
    {
     "name": "stdout",
     "output_type": "stream",
     "text": [
      "Epoch 2/80 - Loss: 2.5962, Accuracy: 65.40%\n",
      "📉 驗證準確度: 67.79%\n",
      "✅ 驗證準確度提升: 67.79 → 67.79，重置早停計數器\n"
     ]
    },
    {
     "name": "stderr",
     "output_type": "stream",
     "text": [
      "Epoch 3/80: 100%|██████████| 4/4 [00:02<00:00,  1.75it/s, acc=65.4, loss=0.63] \n"
     ]
    },
    {
     "name": "stdout",
     "output_type": "stream",
     "text": [
      "Epoch 3/80 - Loss: 2.5736, Accuracy: 65.40%\n",
      "📉 驗證準確度: 67.79%\n",
      "✅ 驗證準確度提升: 67.79 → 67.79，重置早停計數器\n"
     ]
    },
    {
     "name": "stderr",
     "output_type": "stream",
     "text": [
      "Epoch 4/80: 100%|██████████| 4/4 [00:02<00:00,  1.76it/s, acc=65.4, loss=0.638]\n"
     ]
    },
    {
     "name": "stdout",
     "output_type": "stream",
     "text": [
      "Epoch 4/80 - Loss: 2.5665, Accuracy: 65.40%\n",
      "📉 驗證準確度: 67.79%\n",
      "✅ 驗證準確度提升: 67.79 → 67.79，重置早停計數器\n"
     ]
    },
    {
     "name": "stderr",
     "output_type": "stream",
     "text": [
      "Epoch 5/80: 100%|██████████| 4/4 [00:02<00:00,  1.76it/s, acc=65.4, loss=0.614]\n"
     ]
    },
    {
     "name": "stdout",
     "output_type": "stream",
     "text": [
      "Epoch 5/80 - Loss: 2.5436, Accuracy: 65.40%\n",
      "📉 驗證準確度: 67.79%\n",
      "✅ 驗證準確度提升: 67.79 → 67.79，重置早停計數器\n"
     ]
    },
    {
     "name": "stderr",
     "output_type": "stream",
     "text": [
      "Epoch 6/80: 100%|██████████| 4/4 [00:02<00:00,  1.78it/s, acc=65.4, loss=0.633]\n"
     ]
    },
    {
     "name": "stdout",
     "output_type": "stream",
     "text": [
      "Epoch 6/80 - Loss: 2.5310, Accuracy: 65.40%\n",
      "📉 驗證準確度: 67.79%\n",
      "✅ 驗證準確度提升: 67.79 → 67.79，重置早停計數器\n"
     ]
    },
    {
     "name": "stderr",
     "output_type": "stream",
     "text": [
      "Epoch 7/80: 100%|██████████| 4/4 [00:02<00:00,  1.74it/s, acc=65.4, loss=0.624]\n"
     ]
    },
    {
     "name": "stdout",
     "output_type": "stream",
     "text": [
      "Epoch 7/80 - Loss: 2.4838, Accuracy: 65.38%\n",
      "📉 驗證準確度: 67.68%\n",
      "⚠️ 早停計數器: 1/8\n"
     ]
    },
    {
     "name": "stderr",
     "output_type": "stream",
     "text": [
      "Epoch 8/80: 100%|██████████| 4/4 [00:02<00:00,  1.78it/s, acc=65.5, loss=0.622]\n"
     ]
    },
    {
     "name": "stdout",
     "output_type": "stream",
     "text": [
      "Epoch 8/80 - Loss: 2.4957, Accuracy: 65.46%\n",
      "📉 驗證準確度: 69.02%\n",
      "✅ 驗證準確度提升: 67.79 → 69.02，重置早停計數器\n"
     ]
    },
    {
     "name": "stderr",
     "output_type": "stream",
     "text": [
      "Epoch 9/80: 100%|██████████| 4/4 [00:02<00:00,  1.78it/s, acc=66, loss=0.613]  \n"
     ]
    },
    {
     "name": "stdout",
     "output_type": "stream",
     "text": [
      "Epoch 9/80 - Loss: 2.4616, Accuracy: 66.05%\n",
      "📉 驗證準確度: 68.80%\n",
      "⚠️ 早停計數器: 1/8\n"
     ]
    },
    {
     "name": "stderr",
     "output_type": "stream",
     "text": [
      "Epoch 10/80: 100%|██████████| 4/4 [00:02<00:00,  1.76it/s, acc=67.5, loss=0.593]\n"
     ]
    },
    {
     "name": "stdout",
     "output_type": "stream",
     "text": [
      "Epoch 10/80 - Loss: 2.4301, Accuracy: 67.45%\n",
      "📉 驗證準確度: 67.79%\n",
      "⚠️ 早停計數器: 2/8\n"
     ]
    },
    {
     "name": "stderr",
     "output_type": "stream",
     "text": [
      "Epoch 11/80: 100%|██████████| 4/4 [00:02<00:00,  1.66it/s, acc=65.8, loss=0.612]\n"
     ]
    },
    {
     "name": "stdout",
     "output_type": "stream",
     "text": [
      "Epoch 11/80 - Loss: 2.4193, Accuracy: 65.77%\n",
      "📉 驗證準確度: 68.69%\n",
      "⚠️ 早停計數器: 3/8\n"
     ]
    },
    {
     "name": "stderr",
     "output_type": "stream",
     "text": [
      "Epoch 12/80: 100%|██████████| 4/4 [00:02<00:00,  1.76it/s, acc=66.5, loss=0.606]\n"
     ]
    },
    {
     "name": "stdout",
     "output_type": "stream",
     "text": [
      "Epoch 12/80 - Loss: 2.4040, Accuracy: 66.47%\n",
      "📉 驗證準確度: 69.25%\n",
      "✅ 驗證準確度提升: 69.02 → 69.25，重置早停計數器\n"
     ]
    },
    {
     "name": "stderr",
     "output_type": "stream",
     "text": [
      "Epoch 13/80: 100%|██████████| 4/4 [00:02<00:00,  1.76it/s, acc=67, loss=0.608]  \n"
     ]
    },
    {
     "name": "stdout",
     "output_type": "stream",
     "text": [
      "Epoch 13/80 - Loss: 2.3675, Accuracy: 67.00%\n",
      "📉 驗證準確度: 68.57%\n",
      "⚠️ 早停計數器: 1/8\n"
     ]
    },
    {
     "name": "stderr",
     "output_type": "stream",
     "text": [
      "Epoch 14/80: 100%|██████████| 4/4 [00:02<00:00,  1.68it/s, acc=68.4, loss=0.599]\n"
     ]
    },
    {
     "name": "stdout",
     "output_type": "stream",
     "text": [
      "Epoch 14/80 - Loss: 2.3395, Accuracy: 68.41%\n",
      "📉 驗證準確度: 69.70%\n",
      "✅ 驗證準確度提升: 69.25 → 69.70，重置早停計數器\n"
     ]
    },
    {
     "name": "stderr",
     "output_type": "stream",
     "text": [
      "Epoch 15/80: 100%|██████████| 4/4 [00:02<00:00,  1.76it/s, acc=69, loss=0.544]  \n"
     ]
    },
    {
     "name": "stdout",
     "output_type": "stream",
     "text": [
      "Epoch 15/80 - Loss: 2.2890, Accuracy: 68.97%\n",
      "📉 驗證準確度: 69.47%\n",
      "⚠️ 早停計數器: 1/8\n"
     ]
    },
    {
     "name": "stderr",
     "output_type": "stream",
     "text": [
      "Epoch 16/80: 100%|██████████| 4/4 [00:02<00:00,  1.74it/s, acc=69.1, loss=0.579]\n"
     ]
    },
    {
     "name": "stdout",
     "output_type": "stream",
     "text": [
      "Epoch 16/80 - Loss: 2.2856, Accuracy: 69.11%\n",
      "📉 驗證準確度: 70.59%\n",
      "✅ 驗證準確度提升: 69.70 → 70.59，重置早停計數器\n"
     ]
    },
    {
     "name": "stderr",
     "output_type": "stream",
     "text": [
      "Epoch 17/80: 100%|██████████| 4/4 [00:02<00:00,  1.71it/s, acc=69.4, loss=0.568]\n"
     ]
    },
    {
     "name": "stdout",
     "output_type": "stream",
     "text": [
      "Epoch 17/80 - Loss: 2.2695, Accuracy: 69.36%\n",
      "📉 驗證準確度: 69.70%\n",
      "⚠️ 早停計數器: 1/8\n"
     ]
    },
    {
     "name": "stderr",
     "output_type": "stream",
     "text": [
      "Epoch 18/80: 100%|██████████| 4/4 [00:02<00:00,  1.70it/s, acc=69.5, loss=0.553]\n"
     ]
    },
    {
     "name": "stdout",
     "output_type": "stream",
     "text": [
      "Epoch 18/80 - Loss: 2.2451, Accuracy: 69.47%\n",
      "📉 驗證準確度: 71.60%\n",
      "✅ 驗證準確度提升: 70.59 → 71.60，重置早停計數器\n"
     ]
    },
    {
     "name": "stderr",
     "output_type": "stream",
     "text": [
      "Epoch 19/80: 100%|██████████| 4/4 [00:02<00:00,  1.76it/s, acc=69.4, loss=0.562]\n"
     ]
    },
    {
     "name": "stdout",
     "output_type": "stream",
     "text": [
      "Epoch 19/80 - Loss: 2.2153, Accuracy: 69.44%\n",
      "📉 驗證準確度: 70.71%\n",
      "⚠️ 早停計數器: 1/8\n"
     ]
    },
    {
     "name": "stderr",
     "output_type": "stream",
     "text": [
      "Epoch 20/80: 100%|██████████| 4/4 [00:02<00:00,  1.65it/s, acc=70.7, loss=0.533]\n"
     ]
    },
    {
     "name": "stdout",
     "output_type": "stream",
     "text": [
      "Epoch 20/80 - Loss: 2.2022, Accuracy: 70.65%\n",
      "📉 驗證準確度: 69.47%\n",
      "⚠️ 早停計數器: 2/8\n"
     ]
    },
    {
     "name": "stderr",
     "output_type": "stream",
     "text": [
      "Epoch 21/80: 100%|██████████| 4/4 [00:02<00:00,  1.72it/s, acc=70.3, loss=0.529]\n"
     ]
    },
    {
     "name": "stdout",
     "output_type": "stream",
     "text": [
      "Epoch 21/80 - Loss: 2.1718, Accuracy: 70.31%\n",
      "📉 驗證準確度: 69.81%\n",
      "⚠️ 早停計數器: 3/8\n"
     ]
    },
    {
     "name": "stderr",
     "output_type": "stream",
     "text": [
      "Epoch 22/80: 100%|██████████| 4/4 [00:02<00:00,  1.65it/s, acc=71.1, loss=0.55] \n"
     ]
    },
    {
     "name": "stdout",
     "output_type": "stream",
     "text": [
      "Epoch 22/80 - Loss: 2.1772, Accuracy: 71.13%\n",
      "📉 驗證準確度: 71.83%\n",
      "✅ 驗證準確度提升: 71.60 → 71.83，重置早停計數器\n"
     ]
    },
    {
     "name": "stderr",
     "output_type": "stream",
     "text": [
      "Epoch 23/80: 100%|██████████| 4/4 [00:02<00:00,  1.68it/s, acc=72, loss=0.538]  \n"
     ]
    },
    {
     "name": "stdout",
     "output_type": "stream",
     "text": [
      "Epoch 23/80 - Loss: 2.1387, Accuracy: 72.00%\n",
      "📉 驗證準確度: 72.73%\n",
      "✅ 驗證準確度提升: 71.83 → 72.73，重置早停計數器\n"
     ]
    },
    {
     "name": "stderr",
     "output_type": "stream",
     "text": [
      "Epoch 24/80: 100%|██████████| 4/4 [00:02<00:00,  1.67it/s, acc=72.7, loss=0.536]\n"
     ]
    },
    {
     "name": "stdout",
     "output_type": "stream",
     "text": [
      "Epoch 24/80 - Loss: 2.1117, Accuracy: 72.70%\n",
      "📉 驗證準確度: 72.17%\n",
      "⚠️ 早停計數器: 1/8\n"
     ]
    },
    {
     "name": "stderr",
     "output_type": "stream",
     "text": [
      "Epoch 25/80: 100%|██████████| 4/4 [00:02<00:00,  1.67it/s, acc=72.9, loss=0.518]\n"
     ]
    },
    {
     "name": "stdout",
     "output_type": "stream",
     "text": [
      "Epoch 25/80 - Loss: 2.0783, Accuracy: 72.90%\n",
      "📉 驗證準確度: 71.60%\n",
      "⚠️ 早停計數器: 2/8\n"
     ]
    },
    {
     "name": "stderr",
     "output_type": "stream",
     "text": [
      "Epoch 26/80: 100%|██████████| 4/4 [00:02<00:00,  1.65it/s, acc=73.3, loss=0.484]\n"
     ]
    },
    {
     "name": "stdout",
     "output_type": "stream",
     "text": [
      "Epoch 26/80 - Loss: 2.0263, Accuracy: 73.32%\n",
      "📉 驗證準確度: 70.71%\n",
      "⚠️ 早停計數器: 3/8\n"
     ]
    },
    {
     "name": "stderr",
     "output_type": "stream",
     "text": [
      "Epoch 27/80: 100%|██████████| 4/4 [00:02<00:00,  1.66it/s, acc=73.7, loss=0.526]\n"
     ]
    },
    {
     "name": "stdout",
     "output_type": "stream",
     "text": [
      "Epoch 27/80 - Loss: 2.0407, Accuracy: 73.68%\n",
      "📉 驗證準確度: 73.18%\n",
      "✅ 驗證準確度提升: 72.73 → 73.18，重置早停計數器\n"
     ]
    },
    {
     "name": "stderr",
     "output_type": "stream",
     "text": [
      "Epoch 28/80: 100%|██████████| 4/4 [00:02<00:00,  1.75it/s, acc=74.1, loss=0.511]\n"
     ]
    },
    {
     "name": "stdout",
     "output_type": "stream",
     "text": [
      "Epoch 28/80 - Loss: 2.0233, Accuracy: 74.13%\n",
      "📉 驗證準確度: 72.28%\n",
      "⚠️ 早停計數器: 1/8\n"
     ]
    },
    {
     "name": "stderr",
     "output_type": "stream",
     "text": [
      "Epoch 29/80: 100%|██████████| 4/4 [00:02<00:00,  1.71it/s, acc=74.8, loss=0.5]  \n"
     ]
    },
    {
     "name": "stdout",
     "output_type": "stream",
     "text": [
      "Epoch 29/80 - Loss: 1.9695, Accuracy: 74.78%\n",
      "📉 驗證準確度: 72.39%\n",
      "⚠️ 早停計數器: 2/8\n"
     ]
    },
    {
     "name": "stderr",
     "output_type": "stream",
     "text": [
      "Epoch 30/80: 100%|██████████| 4/4 [00:02<00:00,  1.69it/s, acc=75.1, loss=0.501]\n"
     ]
    },
    {
     "name": "stdout",
     "output_type": "stream",
     "text": [
      "Epoch 30/80 - Loss: 1.9799, Accuracy: 75.11%\n",
      "📉 驗證準確度: 72.95%\n",
      "⚠️ 早停計數器: 3/8\n"
     ]
    },
    {
     "name": "stderr",
     "output_type": "stream",
     "text": [
      "Epoch 31/80: 100%|██████████| 4/4 [00:02<00:00,  1.68it/s, acc=74.7, loss=0.51] \n"
     ]
    },
    {
     "name": "stdout",
     "output_type": "stream",
     "text": [
      "Epoch 31/80 - Loss: 1.9522, Accuracy: 74.72%\n",
      "📉 驗證準確度: 73.18%\n",
      "✅ 驗證準確度提升: 73.18 → 73.18，重置早停計數器\n"
     ]
    },
    {
     "name": "stderr",
     "output_type": "stream",
     "text": [
      "Epoch 32/80: 100%|██████████| 4/4 [00:02<00:00,  1.69it/s, acc=75.6, loss=0.478]\n"
     ]
    },
    {
     "name": "stdout",
     "output_type": "stream",
     "text": [
      "Epoch 32/80 - Loss: 1.9349, Accuracy: 75.62%\n",
      "📉 驗證準確度: 72.50%\n",
      "⚠️ 早停計數器: 1/8\n"
     ]
    },
    {
     "name": "stderr",
     "output_type": "stream",
     "text": [
      "Epoch 33/80: 100%|██████████| 4/4 [00:02<00:00,  1.66it/s, acc=76.7, loss=0.46] \n"
     ]
    },
    {
     "name": "stdout",
     "output_type": "stream",
     "text": [
      "Epoch 33/80 - Loss: 1.8627, Accuracy: 76.66%\n",
      "📉 驗證準確度: 72.50%\n",
      "⚠️ 早停計數器: 2/8\n"
     ]
    },
    {
     "name": "stderr",
     "output_type": "stream",
     "text": [
      "Epoch 34/80: 100%|██████████| 4/4 [00:02<00:00,  1.59it/s, acc=76.6, loss=0.456]\n"
     ]
    },
    {
     "name": "stdout",
     "output_type": "stream",
     "text": [
      "Epoch 34/80 - Loss: 1.8398, Accuracy: 76.63%\n",
      "📉 驗證準確度: 71.72%\n",
      "⚠️ 早停計數器: 3/8\n"
     ]
    },
    {
     "name": "stderr",
     "output_type": "stream",
     "text": [
      "Epoch 35/80: 100%|██████████| 4/4 [00:02<00:00,  1.66it/s, acc=76.2, loss=0.454]\n"
     ]
    },
    {
     "name": "stdout",
     "output_type": "stream",
     "text": [
      "Epoch 35/80 - Loss: 1.8622, Accuracy: 76.15%\n",
      "📉 驗證準確度: 74.07%\n",
      "✅ 驗證準確度提升: 73.18 → 74.07，重置早停計數器\n"
     ]
    },
    {
     "name": "stderr",
     "output_type": "stream",
     "text": [
      "Epoch 36/80: 100%|██████████| 4/4 [00:02<00:00,  1.63it/s, acc=77.6, loss=0.441]\n"
     ]
    },
    {
     "name": "stdout",
     "output_type": "stream",
     "text": [
      "Epoch 36/80 - Loss: 1.8046, Accuracy: 77.55%\n",
      "📉 驗證準確度: 72.50%\n",
      "⚠️ 早停計數器: 1/8\n"
     ]
    },
    {
     "name": "stderr",
     "output_type": "stream",
     "text": [
      "Epoch 37/80: 100%|██████████| 4/4 [00:02<00:00,  1.39it/s, acc=78.5, loss=0.424]\n"
     ]
    },
    {
     "name": "stdout",
     "output_type": "stream",
     "text": [
      "Epoch 37/80 - Loss: 1.7752, Accuracy: 78.51%\n",
      "📉 驗證準確度: 73.06%\n",
      "⚠️ 早停計數器: 2/8\n"
     ]
    },
    {
     "name": "stderr",
     "output_type": "stream",
     "text": [
      "Epoch 38/80: 100%|██████████| 4/4 [00:02<00:00,  1.70it/s, acc=78.5, loss=0.419]\n"
     ]
    },
    {
     "name": "stdout",
     "output_type": "stream",
     "text": [
      "Epoch 38/80 - Loss: 1.7383, Accuracy: 78.54%\n",
      "📉 驗證準確度: 73.29%\n",
      "⚠️ 早停計數器: 3/8\n"
     ]
    },
    {
     "name": "stderr",
     "output_type": "stream",
     "text": [
      "Epoch 39/80: 100%|██████████| 4/4 [00:02<00:00,  1.69it/s, acc=79.4, loss=0.442]\n"
     ]
    },
    {
     "name": "stdout",
     "output_type": "stream",
     "text": [
      "Epoch 39/80 - Loss: 1.7350, Accuracy: 79.41%\n",
      "📉 驗證準確度: 72.50%\n",
      "⚠️ 早停計數器: 4/8\n"
     ]
    },
    {
     "name": "stderr",
     "output_type": "stream",
     "text": [
      "Epoch 40/80: 100%|██████████| 4/4 [00:02<00:00,  1.71it/s, acc=78.8, loss=0.415]\n"
     ]
    },
    {
     "name": "stdout",
     "output_type": "stream",
     "text": [
      "Epoch 40/80 - Loss: 1.7013, Accuracy: 78.84%\n",
      "📉 驗證準確度: 73.85%\n",
      "⚠️ 早停計數器: 5/8\n"
     ]
    },
    {
     "name": "stderr",
     "output_type": "stream",
     "text": [
      "Epoch 41/80: 100%|██████████| 4/4 [00:02<00:00,  1.57it/s, acc=79.4, loss=0.437]\n"
     ]
    },
    {
     "name": "stdout",
     "output_type": "stream",
     "text": [
      "Epoch 41/80 - Loss: 1.6890, Accuracy: 79.38%\n",
      "📉 驗證準確度: 73.63%\n",
      "⚠️ 早停計數器: 6/8\n"
     ]
    },
    {
     "name": "stderr",
     "output_type": "stream",
     "text": [
      "Epoch 42/80: 100%|██████████| 4/4 [00:02<00:00,  1.59it/s, acc=81.3, loss=0.4]  \n"
     ]
    },
    {
     "name": "stdout",
     "output_type": "stream",
     "text": [
      "Epoch 42/80 - Loss: 1.6178, Accuracy: 81.34%\n",
      "📉 驗證準確度: 73.51%\n",
      "⚠️ 早停計數器: 7/8\n"
     ]
    },
    {
     "name": "stderr",
     "output_type": "stream",
     "text": [
      "Epoch 43/80: 100%|██████████| 4/4 [00:02<00:00,  1.68it/s, acc=80.7, loss=0.404]\n"
     ]
    },
    {
     "name": "stdout",
     "output_type": "stream",
     "text": [
      "Epoch 43/80 - Loss: 1.6231, Accuracy: 80.72%\n",
      "📉 驗證準確度: 72.95%\n",
      "⚠️ 早停計數器: 8/8\n",
      "🛑 觸發早停，停止訓練\n",
      "✅ 模型已儲存為最佳驗證表現!\n"
     ]
    },
    {
     "name": "stderr",
     "output_type": "stream",
     "text": [
      "Testing: 100%|██████████| 1/1 [00:00<00:00,  2.06it/s, acc=73]"
     ]
    },
    {
     "name": "stdout",
     "output_type": "stream",
     "text": [
      "📊 測試準確度: 72.95%\n"
     ]
    },
    {
     "name": "stderr",
     "output_type": "stream",
     "text": [
      "\n"
     ]
    }
   ],
   "source": [
    "import os\n",
    "import numpy as np\n",
    "import torch\n",
    "import torch.nn as nn\n",
    "import torch.optim as optim\n",
    "import torchvision.transforms as transforms\n",
    "import torchvision.datasets as datasets\n",
    "from torch.utils.data import DataLoader\n",
    "from tqdm import tqdm\n",
    "import matplotlib.pyplot as plt\n",
    "from PIL import Image\n",
    "\n",
    "# ✅ EarlyStopping 類別\n",
    "class EarlyStopping:\n",
    "    def __init__(self, patience=8, verbose=True, delta=0):\n",
    "        self.patience = patience\n",
    "        self.verbose = verbose\n",
    "        self.counter = 0\n",
    "        self.best_acc = None\n",
    "        self.early_stop = False\n",
    "        self.delta = delta\n",
    "        self.best_model_state = None\n",
    "\n",
    "    def __call__(self, acc, model):\n",
    "        if self.best_acc is None:\n",
    "            self.best_acc = acc\n",
    "            self.best_model_state = model.state_dict()\n",
    "        elif acc < self.best_acc + self.delta:\n",
    "            self.counter += 1\n",
    "            if self.verbose:\n",
    "                print(f\"⚠️ 早停計數器: {self.counter}/{self.patience}\")\n",
    "            if self.counter >= self.patience:\n",
    "                self.early_stop = True\n",
    "        else:\n",
    "            if self.verbose:\n",
    "                print(f\"✅ 驗證準確度提升: {self.best_acc:.2f} → {acc:.2f}，重置早停計數器\")\n",
    "            self.best_acc = acc\n",
    "            self.best_model_state = model.state_dict()\n",
    "            self.counter = 0\n",
    "\n",
    "# 設定設備\n",
    "device = torch.device(\"cuda\" if torch.cuda.is_available() else \"cpu\")\n",
    "\n",
    "# 設定圖片路徑與參數\n",
    "dataset_path = \"corp_augmented_data\"\n",
    "batch_size = 1024\n",
    "IMG_SIZE = 64\n",
    "\n",
    "# 圖片預處理\n",
    "transform = transforms.Compose([\n",
    "    transforms.Resize((IMG_SIZE, IMG_SIZE)),\n",
    "    transforms.ToTensor(),\n",
    "    transforms.Normalize((0.5,), (0.5,))\n",
    "])\n",
    "\n",
    "# 資料集與資料分割\n",
    "dataset = datasets.ImageFolder(root=dataset_path, transform=transform)\n",
    "train_size = int(0.8 * len(dataset))\n",
    "test_size = len(dataset) - train_size\n",
    "train_dataset, test_dataset = torch.utils.data.random_split(dataset, [train_size, test_size])\n",
    "\n",
    "train_loader = DataLoader(train_dataset, batch_size=batch_size, shuffle=True)\n",
    "test_loader = DataLoader(test_dataset, batch_size=batch_size, shuffle=False)\n",
    "\n",
    "print(f\"類別對應: {dataset.class_to_idx}\")\n",
    "\n",
    "# 模型定義\n",
    "class DeepCoffeeBeanCNN(nn.Module):\n",
    "    def __init__(self):\n",
    "        super(DeepCoffeeBeanCNN, self).__init__()\n",
    "        self.features = nn.Sequential(\n",
    "            nn.Conv2d(3, 32, kernel_size=3, padding=1),  # 64x64 → 64x64\n",
    "            nn.BatchNorm2d(32),\n",
    "            nn.ReLU(),\n",
    "            nn.Conv2d(32, 32, kernel_size=3, padding=1),  # 64x64\n",
    "            nn.BatchNorm2d(32),\n",
    "            nn.ReLU(),\n",
    "            nn.MaxPool2d(2, 2),  # 64x64 → 32x32\n",
    "\n",
    "            nn.Conv2d(32, 64, kernel_size=3, padding=1),  # 32x32\n",
    "            nn.BatchNorm2d(64),\n",
    "            nn.ReLU(),\n",
    "            nn.Conv2d(64, 64, kernel_size=3, padding=1),  # 32x32\n",
    "            nn.BatchNorm2d(64),\n",
    "            nn.ReLU(),\n",
    "            nn.MaxPool2d(2, 2),  # 32x32 → 16x16\n",
    "\n",
    "            nn.Conv2d(64, 128, kernel_size=3, padding=1),  # 16x16\n",
    "            nn.BatchNorm2d(128),\n",
    "            nn.ReLU(),\n",
    "            nn.Conv2d(128, 128, kernel_size=3, padding=1),  # 16x16\n",
    "            nn.BatchNorm2d(128),\n",
    "            nn.ReLU(),\n",
    "            nn.MaxPool2d(2, 2),  # 16x16 → 8x8\n",
    "        )\n",
    "\n",
    "        self.classifier = nn.Sequential(\n",
    "            nn.Flatten(),                # 128 x 8 x 8 = 8192\n",
    "            nn.Linear(128 * 8 * 8, 256),\n",
    "            nn.ReLU(),\n",
    "            nn.Dropout(0.5),\n",
    "            nn.Linear(256, 2)  # 分兩類\n",
    "        )\n",
    "\n",
    "    def forward(self, x):\n",
    "        x = self.features(x)\n",
    "        x = self.classifier(x)\n",
    "        return x\n",
    "\n",
    "\n",
    "# 初始化模型\n",
    "model = CoffeeBeanCNN().to(device)\n",
    "criterion = nn.CrossEntropyLoss()\n",
    "optimizer = optim.Adam(model.parameters(), lr=0.001)\n",
    "early_stopper = EarlyStopping(patience=8, verbose=True)\n",
    "\n",
    "# 訓練迴圈\n",
    "num_epochs = 80\n",
    "for epoch in range(num_epochs):\n",
    "    model.train()\n",
    "    running_loss = 0.0\n",
    "    correct = 0\n",
    "    total = 0\n",
    "    progress_bar = tqdm(train_loader, desc=f\"Epoch {epoch+1}/{num_epochs}\", leave=True)\n",
    "\n",
    "    for images, labels in progress_bar:\n",
    "        images, labels = images.to(device), labels.to(device)\n",
    "\n",
    "        optimizer.zero_grad()\n",
    "        outputs = model(images)\n",
    "        loss = criterion(outputs, labels)\n",
    "        loss.backward()\n",
    "        optimizer.step()\n",
    "\n",
    "        running_loss += loss.item()\n",
    "        _, predicted = outputs.max(1)\n",
    "        correct += predicted.eq(labels).sum().item()\n",
    "        total += labels.size(0)\n",
    "        progress_bar.set_postfix(loss=loss.item(), acc=100 * correct / total)\n",
    "\n",
    "    train_acc = 100 * correct / total\n",
    "    print(f\"Epoch {epoch+1}/{num_epochs} - Loss: {running_loss:.4f}, Accuracy: {train_acc:.2f}%\")\n",
    "\n",
    "    # 驗證階段\n",
    "    model.eval()\n",
    "    val_correct = 0\n",
    "    val_total = 0\n",
    "    with torch.no_grad():\n",
    "        for images, labels in test_loader:\n",
    "            images, labels = images.to(device), labels.to(device)\n",
    "            outputs = model(images)\n",
    "            _, predicted = torch.max(outputs, 1)\n",
    "            val_correct += (predicted == labels).sum().item()\n",
    "            val_total += labels.size(0)\n",
    "    val_acc = 100 * val_correct / val_total\n",
    "    print(f\"📉 驗證準確度: {val_acc:.2f}%\")\n",
    "\n",
    "    # 檢查是否早停\n",
    "    early_stopper(val_acc, model)\n",
    "    if early_stopper.early_stop:\n",
    "        print(\"🛑 觸發早停，停止訓練\")\n",
    "        break\n",
    "\n",
    "# 儲存最佳模型\n",
    "torch.save(early_stopper.best_model_state, \"coffee_bean_cnn.pth\")\n",
    "print(\"✅ 模型已儲存為最佳驗證表現!\")\n",
    "\n",
    "# 測試模型\n",
    "model.load_state_dict(early_stopper.best_model_state)  # 使用最佳權重\n",
    "model.eval()\n",
    "correct = 0\n",
    "total = 0\n",
    "progress_bar = tqdm(test_loader, desc=\"Testing\", leave=True)\n",
    "\n",
    "with torch.no_grad():\n",
    "    for images, labels in progress_bar:\n",
    "        images, labels = images.to(device), labels.to(device)\n",
    "        outputs = model(images)\n",
    "        _, predicted = torch.max(outputs, 1)\n",
    "        correct += (predicted == labels).sum().item()\n",
    "        total += labels.size(0)\n",
    "        progress_bar.set_postfix(acc=100 * correct / total)\n",
    "\n",
    "test_acc = 100 * correct / total\n",
    "print(f\"📊 測試準確度: {test_acc:.2f}%\")\n"
   ]
  },
  {
   "cell_type": "code",
   "execution_count": 2,
   "metadata": {},
   "outputs": [
    {
     "name": "stdout",
     "output_type": "stream",
     "text": [
      "訓練集圖片數量：3564 張\n",
      "測試集圖片數量：891 張\n",
      "訓練集 Batch 數量：4 個 batch（每 batch 1024 張）\n",
      "測試集 Batch 數量：1 個 batch（每 batch 1024 張）\n"
     ]
    }
   ],
   "source": [
    "print(f\"訓練集圖片數量：{len(train_dataset)} 張\")\n",
    "print(f\"測試集圖片數量：{len(test_dataset)} 張\")\n",
    "print(f\"訓練集 Batch 數量：{len(train_loader)} 個 batch（每 batch {batch_size} 張）\")\n",
    "print(f\"測試集 Batch 數量：{len(test_loader)} 個 batch（每 batch {batch_size} 張）\")\n"
   ]
  }
 ],
 "metadata": {
  "kernelspec": {
   "display_name": "pytorch",
   "language": "python",
   "name": "python3"
  },
  "language_info": {
   "codemirror_mode": {
    "name": "ipython",
    "version": 3
   },
   "file_extension": ".py",
   "mimetype": "text/x-python",
   "name": "python",
   "nbconvert_exporter": "python",
   "pygments_lexer": "ipython3",
   "version": "3.11.11"
  }
 },
 "nbformat": 4,
 "nbformat_minor": 2
}
