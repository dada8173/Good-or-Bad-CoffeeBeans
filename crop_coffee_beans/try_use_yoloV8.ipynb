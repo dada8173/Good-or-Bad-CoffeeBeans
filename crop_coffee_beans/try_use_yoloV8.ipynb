{
 "cells": [
  {
   "cell_type": "markdown",
   "metadata": {},
   "source": [
    "結果需要\n",
    "標註數據\n",
    "YOLO 使用 YOLO 格式標註數據 (類似 label.txt)，你可以用 LabelImg 工具來標註：\n",
    "pip install labelImg\n",
    "labelImg\n",
    "\n",
    "並且準備檔案結構\n",
    "dataset/\n",
    "│── images/\n",
    "│   ├── train/  # 訓練集\n",
    "│   ├── val/    # 驗證集\n",
    "│── labels/\n",
    "│   ├── train/  # 訓練集標註\n",
    "│   ├── val/    # 驗證集標註\n",
    "│── data.yaml  # YOLO 訓練參數\n",
    "\n",
    "不合適\n"
   ]
  }
 ],
 "metadata": {
  "kernelspec": {
   "display_name": "base",
   "language": "python",
   "name": "python3"
  },
  "language_info": {
   "codemirror_mode": {
    "name": "ipython",
    "version": 3
   },
   "file_extension": ".py",
   "mimetype": "text/x-python",
   "name": "python",
   "nbconvert_exporter": "python",
   "pygments_lexer": "ipython3",
   "version": "3.12.4"
  }
 },
 "nbformat": 4,
 "nbformat_minor": 2
}
