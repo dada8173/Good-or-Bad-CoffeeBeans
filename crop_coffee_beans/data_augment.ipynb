{
 "cells": [
  {
   "cell_type": "code",
   "execution_count": 3,
   "id": "47451890",
   "metadata": {},
   "outputs": [
    {
     "name": "stdout",
     "output_type": "stream",
     "text": [
      "✅ 擴增完成！圖片已儲存在 corp/augmented_data/ 中\n"
     ]
    }
   ],
   "source": [
    "import os\n",
    "from PIL import Image\n",
    "from torchvision import transforms\n",
    "import torchvision.transforms.functional as TF\n",
    "import random\n",
    "import torch\n",
    "\n",
    "# 設定參數\n",
    "input_dir = 'crop/classByhands'\n",
    "output_dir = 'corp_augmented_data'\n",
    "augment_per_image = 5  # 每張圖片產生幾張擴增版本\n",
    "IMG_SIZE = 64  # 統一圖片大小\n",
    "\n",
    "# 定義擴增方式\n",
    "def get_augment_transform():\n",
    "    return transforms.Compose([\n",
    "        transforms.Resize((IMG_SIZE, IMG_SIZE)),\n",
    "        transforms.RandomHorizontalFlip(),\n",
    "        transforms.RandomRotation(degrees=20),\n",
    "        transforms.ColorJitter(brightness=0.4, contrast=0.4),\n",
    "        transforms.RandomApply([transforms.GaussianBlur(kernel_size=3)], p=0.5),\n",
    "        transforms.ToTensor(),\n",
    "        transforms.Lambda(lambda x: x + 0.05 * torch.randn_like(x)),  # 加一點高斯噪聲\n",
    "        transforms.Clamp(0, 1),  # 防止超出範圍\n",
    "        transforms.ToPILImage()\n",
    "    ])\n",
    "\n",
    "# 新增 Clamp 函數：避免 Tensor 超出 0~1 範圍\n",
    "class Clamp(object):\n",
    "    def __init__(self, min_val, max_val):\n",
    "        self.min = min_val\n",
    "        self.max = max_val\n",
    "    def __call__(self, tensor):\n",
    "        return torch.clamp(tensor, self.min, self.max)\n",
    "\n",
    "# 替換 transforms 中的 Clamp 實作\n",
    "transforms.Clamp = Clamp\n",
    "\n",
    "# 開始擴增\n",
    "for class_name in os.listdir(input_dir):\n",
    "    class_path = os.path.join(input_dir, class_name)\n",
    "    if not os.path.isdir(class_path):\n",
    "        continue\n",
    "\n",
    "    output_class_path = os.path.join(output_dir, class_name)\n",
    "    os.makedirs(output_class_path, exist_ok=True)\n",
    "\n",
    "    for img_name in os.listdir(class_path):\n",
    "        img_path = os.path.join(class_path, img_name)\n",
    "        try:\n",
    "            image = Image.open(img_path).convert(\"RGB\")\n",
    "        except:\n",
    "            print(f\"無法開啟圖檔：{img_path}\")\n",
    "            continue\n",
    "\n",
    "        for i in range(augment_per_image):\n",
    "            transform = get_augment_transform()\n",
    "            augmented = transform(image)\n",
    "            new_name = f\"{os.path.splitext(img_name)[0]}_aug{i}.jpg\"\n",
    "            augmented.save(os.path.join(output_class_path, new_name))\n",
    "\n",
    "print(\"✅ 擴增完成！圖片已儲存在 corp/augmented_data/ 中\")\n"
   ]
  }
 ],
 "metadata": {
  "kernelspec": {
   "display_name": "pytorch",
   "language": "python",
   "name": "python3"
  },
  "language_info": {
   "codemirror_mode": {
    "name": "ipython",
    "version": 3
   },
   "file_extension": ".py",
   "mimetype": "text/x-python",
   "name": "python",
   "nbconvert_exporter": "python",
   "pygments_lexer": "ipython3",
   "version": "3.12.8"
  }
 },
 "nbformat": 4,
 "nbformat_minor": 5
}
